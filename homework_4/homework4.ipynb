{
 "cells": [
  {
   "cell_type": "markdown",
   "id": "ebb72249",
   "metadata": {},
   "source": [
    "# Homework 4"
   ]
  },
  {
   "cell_type": "markdown",
   "id": "60c3c6a1",
   "metadata": {},
   "source": [
    "## Dataset"
   ]
  },
  {
   "cell_type": "code",
   "execution_count": null,
   "id": "62392fbe",
   "metadata": {},
   "outputs": [
    {
     "name": "stdout",
     "output_type": "stream",
     "text": [
      "  % Total    % Received % Xferd  Average Speed   Time    Time     Time  Current\n",
      "                                 Dload  Upload   Total   Spent    Left  Speed\n",
      "  0     0    0     0    0     0      0      0 --:--:-- --:--:-- --:--:--     0Warning: Failed to open the file homework_4/data.csv: No such file or directory\n",
      "  0 80876    0     0    0     0      0      0 --:--:-- --:--:-- --:--:--     0\n",
      "curl: (56) Failure writing output to destination, passed 824 returned 4294967295\n"
     ]
    }
   ],
   "source": [
    "!curl -o homework_4/data.csv https://raw.githubusercontent.com/alexeygrigorev/datasets/master/course_lead_scoring.csv"
   ]
  },
  {
   "cell_type": "markdown",
   "id": "37225474",
   "metadata": {},
   "source": [
    "## Data Preparation"
   ]
  },
  {
   "cell_type": "markdown",
   "id": "e0431b0e",
   "metadata": {},
   "source": [
    "The target variable is `converted`\n",
    "* check if the missing values are presented in the features\n",
    "* if there are missing values:\n",
    "    * for categorical features, replace withh 'NA'\n",
    "    * for numerical features, replace with 0.0"
   ]
  },
  {
   "cell_type": "code",
   "execution_count": 2,
   "id": "25ab407e",
   "metadata": {},
   "outputs": [],
   "source": [
    "import pandas as pd\n",
    "import numpy as np\n",
    "import matplotlib.pyplot as plt\n",
    "import seaborn as sns"
   ]
  },
  {
   "cell_type": "code",
   "execution_count": 3,
   "id": "c2cb76d4",
   "metadata": {},
   "outputs": [],
   "source": [
    "data = pd.read_csv(\"data.csv\")"
   ]
  },
  {
   "cell_type": "code",
   "execution_count": 4,
   "id": "f9c6d1dc",
   "metadata": {},
   "outputs": [
    {
     "data": {
      "text/plain": [
       "lead_source                  object\n",
       "industry                     object\n",
       "number_of_courses_viewed      int64\n",
       "annual_income               float64\n",
       "employment_status            object\n",
       "location                     object\n",
       "interaction_count             int64\n",
       "lead_score                  float64\n",
       "converted                     int64\n",
       "dtype: object"
      ]
     },
     "execution_count": null,
     "metadata": {},
     "output_type": "execute_result"
    }
   ],
   "source": [
    "data.dtypes"
   ]
  },
  {
   "cell_type": "code",
   "execution_count": 5,
   "id": "bf5f7e90",
   "metadata": {},
   "outputs": [
    {
     "data": {
      "text/plain": [
       "lead_source                 128\n",
       "industry                    134\n",
       "number_of_courses_viewed      0\n",
       "annual_income               181\n",
       "employment_status           100\n",
       "location                     63\n",
       "interaction_count             0\n",
       "lead_score                    0\n",
       "converted                     0\n",
       "dtype: int64"
      ]
     },
     "execution_count": null,
     "metadata": {},
     "output_type": "execute_result"
    }
   ],
   "source": [
    "categorical = data.select_dtypes(include=\"object\").columns.to_list()\n",
    "numerical = data.select_dtypes(exclude=\"object\").columns.to_list()\n",
    "data.isna().sum()"
   ]
  },
  {
   "cell_type": "code",
   "execution_count": 6,
   "id": "0d6d8cf5",
   "metadata": {},
   "outputs": [
    {
     "data": {
      "text/plain": [
       "lead_source                 0\n",
       "industry                    0\n",
       "number_of_courses_viewed    0\n",
       "annual_income               0\n",
       "employment_status           0\n",
       "location                    0\n",
       "interaction_count           0\n",
       "lead_score                  0\n",
       "converted                   0\n",
       "dtype: int64"
      ]
     },
     "execution_count": null,
     "metadata": {},
     "output_type": "execute_result"
    }
   ],
   "source": [
    "data[categorical] = data[categorical].fillna(\"NA\")\n",
    "data[numerical] = data[numerical].fillna(0.0)\n",
    "data.isna().sum()"
   ]
  },
  {
   "cell_type": "markdown",
   "id": "1f5c1409",
   "metadata": {},
   "source": [
    "Split the data into 3 parts: train/validation/test with 60%/20%/20% distribution. use `train_test_split` function for that with `random_state=1`"
   ]
  },
  {
   "cell_type": "code",
   "execution_count": 7,
   "id": "0a6c5153",
   "metadata": {},
   "outputs": [],
   "source": [
    "from sklearn.model_selection import train_test_split\n",
    "# separate target variable from the rest of the data\n",
    "y = data['converted']\n",
    "data = data.drop(columns='converted')\n",
    "numerical.remove('converted')\n",
    "data_full_train, data_test, y_full_train, y_test = train_test_split(data, y, test_size=0.2, random_state=1)\n",
    "data_train, data_val, y_train, y_val = train_test_split(data_full_train, y_full_train, test_size=0.25, random_state=1)"
   ]
  },
  {
   "cell_type": "markdown",
   "id": "e6add6e0",
   "metadata": {},
   "source": [
    "## Question 1\n",
    "ROC AUC could also be used to evaluate featuer importance of numerical variables\n",
    "Let's do that:\n",
    "* For each numerical variable, use it as a score (aka prediction) and compute the AUC with y variable as the ground truth\n",
    "* Use the training dataset for that\n",
    "\n",
    "If your AUC < 0.5, invert this variabel by putting \"-\" in front of it (e.g., `-df_train['balance']`)\n",
    "AUC can fo below 0.5 if the variable is negatively correlated with the target variable. You can change the direction of the correation by negating this variable - then the negative correlation becomes positive\n",
    "\n",
    "Which numerical variable (among the following 4) has the highest AUC?\n",
    "    "
   ]
  },
  {
   "cell_type": "code",
   "execution_count": 8,
   "id": "90a19ff7",
   "metadata": {},
   "outputs": [
    {
     "name": "stdout",
     "output_type": "stream",
     "text": [
      "The numerical variable with the highest AUC is number_of_courses_viewed\n"
     ]
    }
   ],
   "source": [
    "from sklearn.metrics import roc_auc_score\n",
    "score = dict()\n",
    "for variable in numerical:\n",
    "    auc = roc_auc_score(y_train, data_train[variable])\n",
    "    if auc < 0.5:\n",
    "        auc = roc_auc_score(y_train, -data_train[variable])\n",
    "    score[variable] = auc\n",
    "\n",
    "print(f\"The numerical variable with the highest AUC is {max(score, key=score.get)}\")"
   ]
  },
  {
   "cell_type": "markdown",
   "id": "8ed98fd0",
   "metadata": {},
   "source": [
    "## Question 2:\n",
    "Apply one-hot encoding using DictVectorizer and train the logistic regression with these parameters:\n",
    "\n",
    "`LogisticRegression(solver='liblinear', C=1.0, max_iter=1000)`\n",
    "\n",
    "What's the AUC of this model on the validation dataset? (round to 3 digits)"
   ]
  },
  {
   "cell_type": "code",
   "execution_count": 11,
   "id": "7f84a17b",
   "metadata": {},
   "outputs": [
    {
     "name": "stdout",
     "output_type": "stream",
     "text": [
      "The AUC of this model is 0.817\n"
     ]
    }
   ],
   "source": [
    "from sklearn.feature_extraction import DictVectorizer\n",
    "from sklearn.linear_model import LogisticRegression\n",
    "\n",
    "def train(df_train, y_train, C = 1.0):\n",
    "    dv = DictVectorizer(sparse=False)\n",
    "    dicts_train = df_train[numerical + categorical].to_dict(orient='records')\n",
    "    X_train = dv.fit_transform(dicts_train)\n",
    "\n",
    "    model = LogisticRegression(solver='liblinear', C=C, max_iter=1000)\n",
    "    model.fit(X_train, y_train)\n",
    "    return dv, model\n",
    "\n",
    "dv, model = train(data_train, y_train)\n",
    "dicts_val = data_val.to_dict(orient='records')\n",
    "X_val = dv.transform(dicts_val)\n",
    "y_pred_val = model.predict_proba(X_val)[:,1]\n",
    "\n",
    "auc = roc_auc_score(y_val, y_pred_val)\n",
    "\n",
    "print(f\"The AUC of this model is {auc:.3f}\")"
   ]
  },
  {
   "cell_type": "markdown",
   "id": "a0b4050e",
   "metadata": {},
   "source": [
    "## Question 3:\n",
    "Now let's compute precision and recal for our model.\n",
    "* Evaluate the model on all thresholds from 0.0 to 1.0 with step 0.01\n",
    "* For each threshold, compute precision and recall\n",
    "* Plot them\n",
    "\n",
    "At which threshold precision and recall curves intersect?"
   ]
  },
  {
   "cell_type": "code",
   "execution_count": 13,
   "id": "bf185972",
   "metadata": {},
   "outputs": [
    {
     "name": "stdout",
     "output_type": "stream",
     "text": [
      " The threshold where precision and recall are the same is 0.64\n"
     ]
    }
   ],
   "source": [
    "from sklearn.metrics import precision_score, recall_score\n",
    "thresholds = np.arange(0, 1+0.01, 0.01)\n",
    "precision = []\n",
    "recall = []\n",
    "f1_score = []\n",
    "valid_thresholds = []\n",
    "for t in thresholds:\n",
    "    y_pred = (y_pred_val >= t).astype(int)\n",
    "    if y_pred.sum() == 0:\n",
    "        continue\n",
    "    p = precision_score(y_val, y_pred) #warnings caused by zero division. can be fixed by setting zero_division = 0 or np.nan for example\n",
    "    r = recall_score(y_val, y_pred)\n",
    "    precision.append(p) \n",
    "    recall.append(r)\n",
    "    valid_thresholds.append(t)\n",
    "\n",
    "# find the threshold where precision and recall intersect\n",
    "p = np.array(precision)\n",
    "r = np.array(recall)\n",
    "intersect_idx = np.argmin(np.abs(p-r))\n",
    "intersect_threshold = valid_thresholds[intersect_idx]\n",
    "# find precision and recal at that threshold\n",
    "p_intersect = precision[intersect_idx]\n",
    "r_intersect = recall[intersect_idx]\n",
    "print(f\" The threshold where precision and recall are the same is {intersect_threshold}\")\n"
   ]
  },
  {
   "cell_type": "code",
   "execution_count": 14,
   "id": "510e6494",
   "metadata": {},
   "outputs": [
    {
     "data": {
      "image/png": "[encoded data removed]",
      "text/plain": [
       "<Figure size 640x480 with 1 Axes>"
      ]
     },
     "metadata": {},
     "output_type": "display_data"
    }
   ],
   "source": [
    "%matplotlib inline\n",
    "plt.plot(valid_thresholds, precision, label='Precision')\n",
    "plt.plot(valid_thresholds, recall, label='Recall')\n",
    "plt.xlabel(\"Threshold\")\n",
    "plt.ylabel(\"Score\")\n",
    "plt.scatter(intersect_threshold, p_intersect, color='red', label = f\"Threshold = {intersect_threshold:.2f}\")\n",
    "plt.legend()\n",
    "plt.grid(True)\n"
   ]
  },
  {
   "cell_type": "markdown",
   "id": "7ed610e3",
   "metadata": {},
   "source": [
    "## Question 4:\n",
    "Precision and recall are conflicting - when one grows, the other goes down. That's why they are often combined into the F1 score - a metrics that takes into account both. This is the formula for computing F1\n",
    "$$\n",
    "F_1 = 2.\\frac{P.R}{P+R}\n",
    "$$\n",
    "\n",
    "Where $P$ is precisino and $R$ is recall.\n",
    "\n",
    "Let's compute F1 for all thresholds from 0.0 to 1.0 with increment 0.01\n",
    "At which threshold F1 is maximal?"
   ]
  },
  {
   "cell_type": "code",
   "execution_count": 15,
   "id": "11589506",
   "metadata": {},
   "outputs": [
    {
     "name": "stdout",
     "output_type": "stream",
     "text": [
      "The threshold at which F1 is max is 0.57\n"
     ]
    }
   ],
   "source": [
    "thresholds = np.arange(0, 1+0.01, 0.01)\n",
    "precision = []\n",
    "recall = []\n",
    "f1_score = []\n",
    "valid_thresholds = []\n",
    "for t in thresholds:\n",
    "    y_pred = (y_pred_val >= t).astype(int)\n",
    "    if y_pred.sum() == 0:\n",
    "        continue\n",
    "    p = precision_score(y_val, y_pred, zero_division=np.nan)\n",
    "    r = recall_score(y_val, y_pred, zero_division=np.nan)\n",
    "    precision.append(p) #warnings caused by zero division. can be fixed by setting zero_division = 0 for example\n",
    "    recall.append(r)\n",
    "    f1 = 2*((p*r)/(p+r))\n",
    "    f1_score.append(f1)\n",
    "    valid_thresholds.append(t)\n",
    "\n",
    "f1 = np.array(f1_score)\n",
    "t_f1 = valid_thresholds[np.argmax(f1)]\n",
    "\n",
    "print(f\"The threshold at which F1 is max is {t_f1:.2f}\")\n"
   ]
  },
  {
   "cell_type": "code",
   "execution_count": 16,
   "id": "fd7a372c",
   "metadata": {},
   "outputs": [
    {
     "data": {
      "image/png": "[encoded data removed]",
      "text/plain": [
       "<Figure size 640x480 with 1 Axes>"
      ]
     },
     "metadata": {},
     "output_type": "display_data"
    }
   ],
   "source": [
    "%matplotlib inline\n",
    "plt.plot(valid_thresholds, f1_score)\n",
    "plt.xlabel(\"Threshold\")\n",
    "plt.ylabel(\"F1\")\n",
    "plt.scatter(t_f1, max(f1), color='red', label=f\"F1 is max at threshold {t_f1:.2f}\")\n",
    "plt.legend()\n",
    "plt.grid(True)"
   ]
  },
  {
   "cell_type": "markdown",
   "id": "20843932",
   "metadata": {},
   "source": [
    "## Question 5:\n",
    "Use the `KFold` class from Scikit-Learn to evaluate our model on 5 different folds:\n",
    "`KFold(n_splits = 5, shuffle = True, random_state = 1)`\n",
    "\n",
    "* Iterate over different folds of `df_full_train`\n",
    "* Split the data into train and validation\n",
    "* Train the model on train with these parameters: `LogisticRegression(solver='liblinear', C=1.0, max_iter=1000)`\n",
    "\n",
    "* Use AUC to evaluate the model on validation\n",
    "\n",
    "How large is the standard deviation of the scores across the different folds?"
   ]
  },
  {
   "cell_type": "code",
   "execution_count": 17,
   "id": "585815cf",
   "metadata": {},
   "outputs": [
    {
     "name": "stdout",
     "output_type": "stream",
     "text": [
      "The standard deviation of the AUC across folds is 0.036\n"
     ]
    }
   ],
   "source": [
    "from sklearn.model_selection import KFold\n",
    "kfold = KFold(n_splits = 5, shuffle = True, random_state = 1)\n",
    "score = []\n",
    "for train_idx, val_idx in kfold.split(data_full_train):\n",
    "    df_train = data_full_train.iloc[train_idx]\n",
    "    df_val = data_full_train.iloc[val_idx]\n",
    "    y_train_kfold = y_full_train.iloc[train_idx]\n",
    "    y_val_kfold = y_full_train.iloc[val_idx]\n",
    "\n",
    "    # model training\n",
    "    dv, model = train(df_train, y_train_kfold)\n",
    "\n",
    "    dicts_val = df_val.to_dict(orient='records')\n",
    "    X_val = dv.transform(dicts_val)\n",
    "    y_pred_val = model.predict_proba(X_val)[:,1]\n",
    "    auc = roc_auc_score(y_val_kfold, y_pred_val)\n",
    "    score.append(auc)\n",
    "\n",
    "print(f\"The standard deviation of the AUC across folds is {np.std(score):.3f}\")\n"
   ]
  },
  {
   "cell_type": "markdown",
   "id": "bffda7d4",
   "metadata": {},
   "source": [
    "## Question 6: Hyperparameter Tuning\n",
    "Now let's use kfold cross validation to find the bect parameter `C`:\n",
    "* Iterate over the following `C` values `[0.000001, 0.001, 1]`\n",
    "* Initialize `KFold` with the same parameters as previously\n",
    "* Use these parameters for the model: `LogisticRegression(solver='liblinear', C=C, max_iter=1000)`\n",
    "* Compute the mean score as well as the std (round th mean and std to 3 decimal digits)\n",
    "\n",
    "Which `C` leads to the best mean score?\n",
    "\n",
    "If you have ties, select the score with the lowest std. If you still have ties, select the smallest `C`."
   ]
  },
  {
   "cell_type": "code",
   "execution_count": 18,
   "id": "12270d34",
   "metadata": {},
   "outputs": [
    {
     "name": "stdout",
     "output_type": "stream",
     "text": [
      "C = 1e-06, mean = 0.560, std = 0.024\n",
      "C = 0.001, mean = 0.867, std = 0.029\n",
      "C = 1, mean = 0.822, std = 0.036\n"
     ]
    }
   ],
   "source": [
    "from sklearn.model_selection import KFold\n",
    "kfold = KFold(n_splits = 5, shuffle = True, random_state = 1)\n",
    "\n",
    "for C in [0.000001, 0.001, 1]:\n",
    "    scores = []\n",
    "    for train_idx, val_idx in kfold.split(data_full_train):\n",
    "        df_train = data_full_train.iloc[train_idx]\n",
    "        df_val = data_full_train.iloc[val_idx]\n",
    "        y_train_kfold = y_full_train.iloc[train_idx]\n",
    "        y_val_kfold = y_full_train.iloc[val_idx]\n",
    "\n",
    "        # model training\n",
    "        dv, model = train(df_train, y_train_kfold, C=C)\n",
    "\n",
    "        dicts_val = df_val.to_dict(orient='records')\n",
    "        X_val = dv.transform(dicts_val)\n",
    "        y_pred_val = model.predict_proba(X_val)[:,1]\n",
    "        auc = roc_auc_score(y_val_kfold, y_pred_val)\n",
    "        scores.append(auc)\n",
    "\n",
    "    print(f\"C = {C}, mean = {np.mean(scores):.3f}, std = {np.std(scores):.3f}\")\n",
    "\n",
    "\n"
   ]
  }
 ],
 "metadata": {
  "language_info": {
   "name": "python"
  }
 },
 "nbformat": 4,
 "nbformat_minor": 5
}
