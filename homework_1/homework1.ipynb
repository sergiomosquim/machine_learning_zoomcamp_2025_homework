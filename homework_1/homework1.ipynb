{
 "cells": [
  {
   "cell_type": "markdown",
   "id": "03dc326c",
   "metadata": {},
   "source": [
    "## Homework 1"
   ]
  },
  {
   "cell_type": "markdown",
   "id": "49ea608a",
   "metadata": {},
   "source": [
    "### Q1. Pandas Version"
   ]
  },
  {
   "cell_type": "code",
   "execution_count": 153,
   "id": "51bfd196",
   "metadata": {},
   "outputs": [],
   "source": [
    "import pandas as pd\n",
    "import numpy as np"
   ]
  },
  {
   "cell_type": "code",
   "execution_count": 154,
   "id": "cf95acda",
   "metadata": {},
   "outputs": [
    {
     "data": {
      "text/plain": [
       "'2.2.3'"
      ]
     },
     "execution_count": null,
     "metadata": {},
     "output_type": "execute_result"
    }
   ],
   "source": [
    "pd.__version__"
   ]
  },
  {
   "cell_type": "markdown",
   "id": "0e922c7d",
   "metadata": {},
   "source": [
    "### Q2. Records Count"
   ]
  },
  {
   "cell_type": "markdown",
   "id": "f6494c01",
   "metadata": {},
   "source": [
    "How many records are in the dataset?"
   ]
  },
  {
   "cell_type": "code",
   "execution_count": 155,
   "id": "8f5238e8",
   "metadata": {},
   "outputs": [],
   "source": [
    "data = pd.read_csv('homework_1/car_fuel_efficiency.csv')"
   ]
  },
  {
   "cell_type": "code",
   "execution_count": 156,
   "id": "393a7764",
   "metadata": {},
   "outputs": [
    {
     "name": "stdout",
     "output_type": "stream",
     "text": [
      "<class 'pandas.core.frame.DataFrame'>\n",
      "RangeIndex: 9704 entries, 0 to 9703\n",
      "Data columns (total 11 columns):\n",
      " #   Column               Non-Null Count  Dtype  \n",
      "---  ------               --------------  -----  \n",
      " 0   engine_displacement  9704 non-null   int64  \n",
      " 1   num_cylinders        9222 non-null   float64\n",
      " 2   horsepower           8996 non-null   float64\n",
      " 3   vehicle_weight       9704 non-null   float64\n",
      " 4   acceleration         8774 non-null   float64\n",
      " 5   model_year           9704 non-null   int64  \n",
      " 6   origin               9704 non-null   object \n",
      " 7   fuel_type            9704 non-null   object \n",
      " 8   drivetrain           9704 non-null   object \n",
      " 9   num_doors            9202 non-null   float64\n",
      " 10  fuel_efficiency_mpg  9704 non-null   float64\n",
      "dtypes: float64(6), int64(2), object(3)\n",
      "memory usage: 834.1+ KB\n"
     ]
    }
   ],
   "source": [
    "data.info()"
   ]
  },
  {
   "cell_type": "code",
   "execution_count": 160,
   "id": "11b920b6",
   "metadata": {},
   "outputs": [
    {
     "name": "stdout",
     "output_type": "stream",
     "text": [
      "There are  9704  records\n"
     ]
    }
   ],
   "source": [
    "print('There are ', data.shape[0], ' records')"
   ]
  },
  {
   "cell_type": "markdown",
   "id": "a423f484",
   "metadata": {},
   "source": [
    "### Q3. Fuel Types\n",
    "How many fuel types are presented in the dataset?"
   ]
  },
  {
   "cell_type": "code",
   "execution_count": 161,
   "id": "dec59c4a",
   "metadata": {},
   "outputs": [
    {
     "data": {
      "text/plain": [
       "2"
      ]
     },
     "execution_count": null,
     "metadata": {},
     "output_type": "execute_result"
    }
   ],
   "source": [
    "data['fuel_type'].nunique()"
   ]
  },
  {
   "cell_type": "markdown",
   "id": "82c4d4b5",
   "metadata": {},
   "source": [
    "### Q4. Missing Values\n",
    "How many columns in the dataset have missing values?"
   ]
  },
  {
   "cell_type": "code",
   "execution_count": 162,
   "id": "6dbac7d9",
   "metadata": {},
   "outputs": [
    {
     "name": "stdout",
     "output_type": "stream",
     "text": [
      "there are  4 columns with missing values: ['num_cylinders' 'horsepower' 'acceleration' 'num_doors']\n"
     ]
    }
   ],
   "source": [
    "na_cols = data.loc[:,data.isnull().sum() > 0].columns\n",
    "print('there are ', na_cols.size, 'columns with missing values:', na_cols.values)"
   ]
  },
  {
   "cell_type": "markdown",
   "id": "70ec96db",
   "metadata": {},
   "source": [
    "### Q5. Max Fuel efficiency\n",
    "What's the maximum fuel efficiency of cars from Asia?"
   ]
  },
  {
   "cell_type": "code",
   "execution_count": 163,
   "id": "7250846e",
   "metadata": {},
   "outputs": [
    {
     "name": "stdout",
     "output_type": "stream",
     "text": [
      "The max fuel efficiency in cars from Asia is: 23.76\n"
     ]
    }
   ],
   "source": [
    "max_fuel_efficiency = data.groupby('origin').fuel_efficiency_mpg.max()\n",
    "max_fuel_efficiency_asia = max_fuel_efficiency.loc['Asia'].round(2)\n",
    "print(\"The max fuel efficiency in cars from Asia is:\", max_fuel_efficiency_asia)"
   ]
  },
  {
   "cell_type": "markdown",
   "id": "4f0bc102",
   "metadata": {},
   "source": [
    "### Q6. Median value of horsepower\n",
    "1. Find the median value of horsepower column in the dataset\n",
    "2. Next, calculate the most frequent value of hte same horsepower column\n",
    "3. Use fillna method to fill the missing values in horsepower column with the most frequent value from the previous step\n",
    "4. Now, calculate the median value of horsepower again"
   ]
  },
  {
   "cell_type": "code",
   "execution_count": 164,
   "id": "ffdf96d4",
   "metadata": {},
   "outputs": [
    {
     "name": "stdout",
     "output_type": "stream",
     "text": [
      "The old median was  149.0 , the most frequent value was  152.0 , and the new median after replacing NAs with the most frequent value is  152.0\n"
     ]
    }
   ],
   "source": [
    "median_horsepower = data['horsepower'].median()\n",
    "most_frequent_horsepower = data['horsepower'].mode()[0]\n",
    "data2 = data.copy()\n",
    "data2['horsepower'] = data2['horsepower'].fillna(most_frequent_horsepower)\n",
    "new_median = data2['horsepower'].median()\n",
    "\n",
    "print('The old median was ', median_horsepower, ', the most frequent value was ', most_frequent_horsepower, ', and the new median after replacing NAs with the most frequent value is ', new_median)"
   ]
  },
  {
   "cell_type": "markdown",
   "id": "1a1cdd33",
   "metadata": {},
   "source": [
    "### Q7. Sum of weights\n",
    "1. Select all the cars from Asia\n",
    "2. Select only columns vehicle_weigh and model_year\n",
    "3. Select the first 7 values\n",
    "4. Get the underlying numpy array. Let's call it X\n",
    "5. Compute matrix-matrix multiplication between the transpose of X and X. To get the transpose, use X.T. Let's call the result XTX\n",
    "6. Invert XTX\n",
    "7. Create an array y with values [1100, 1300, 800, 900, 1000, 1100, 1200]\n",
    "8. Multiply the inverse of XTX with the transpose of X, and then multiply the result by y. Call the result w\n",
    "9. What is the sum of all the elements of the result?"
   ]
  },
  {
   "cell_type": "code",
   "execution_count": 177,
   "id": "3928b30d",
   "metadata": {},
   "outputs": [
    {
     "name": "stdout",
     "output_type": "stream",
     "text": [
      "0.5187709081073995\n"
     ]
    }
   ],
   "source": [
    "#1\n",
    "data_asia = data[data['origin'] == 'Asia']\n",
    "#2\n",
    "data_asia = data_asia[['vehicle_weight', 'model_year']]\n",
    "#3\n",
    "data_asia = data_asia.head(n = 7)\n",
    "#4\n",
    "X = data_asia[['vehicle_weight','model_year']].values\n",
    "#5\n",
    "XTX = X.T.dot(X)\n",
    "#6\n",
    "XTX_inv = np.linalg.inv(XTX)\n",
    "#7\n",
    "y = np.array([1100, 1300, 800, 900, 1000, 1100, 1200])\n",
    "#8\n",
    "w = XTX_inv.dot(X.T).dot(y)\n",
    "#9\n",
    "print(w.sum())"
   ]
  }
 ],
 "metadata": {
  "language_info": {
   "name": "python"
  }
 },
 "nbformat": 4,
 "nbformat_minor": 5
}
