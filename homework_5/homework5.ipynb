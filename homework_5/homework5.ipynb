{
 "cells": [
  {
   "cell_type": "markdown",
   "id": "bf84d5f0",
   "metadata": {},
   "source": [
    "# Homework 5\n",
    "In this homework, we're going to continue working with the lead scoring dataset.\n",
    "\n",
    "## Question 1\n",
    "* Install `uv`\n",
    "* What's the version of uv you intalled?\n",
    "* Use `--version` to find out"
   ]
  },
  {
   "cell_type": "code",
   "execution_count": 1,
   "id": "73538bcc",
   "metadata": {},
   "outputs": [
    {
     "name": "stdout",
     "output_type": "stream",
     "text": [
      "uv 0.9.7 (0adb44480 2025-10-30)\r\n"
     ]
    }
   ],
   "source": [
    "!uv --version"
   ]
  },
  {
   "cell_type": "markdown",
   "id": "ba511070",
   "metadata": {},
   "source": [
    "### Initialize an empty uv project\n",
    "You should create an empty folder for homework and do it there"
   ]
  },
  {
   "cell_type": "code",
   "execution_count": 2,
   "id": "749387bb",
   "metadata": {},
   "outputs": [
    {
     "name": "stdout",
     "output_type": "stream",
     "text": [
      "Initialized project `\u001b[36mhomework-5\u001b[39m`\r\n"
     ]
    }
   ],
   "source": [
    "!uv init"
   ]
  },
  {
   "cell_type": "code",
   "execution_count": 1,
   "id": "fadfc45c",
   "metadata": {},
   "outputs": [
    {
     "name": "stdout",
     "output_type": "stream",
     "text": [
      "\u001b[2K\u001b[2mResolved \u001b[1m6 packages\u001b[0m \u001b[2min 211ms\u001b[0m\u001b[0m                                         \u001b[0m\n",
      "\u001b[2K\u001b[2mInstalled \u001b[1m5 packages\u001b[0m \u001b[2min 148ms\u001b[0m\u001b[0m                               \u001b[0m\n",
      " \u001b[32m+\u001b[39m \u001b[1mjoblib\u001b[0m\u001b[2m==1.5.2\u001b[0m\n",
      " \u001b[32m+\u001b[39m \u001b[1mnumpy\u001b[0m\u001b[2m==2.3.4\u001b[0m\n",
      " \u001b[32m+\u001b[39m \u001b[1mscikit-learn\u001b[0m\u001b[2m==1.6.1\u001b[0m\n",
      " \u001b[32m+\u001b[39m \u001b[1mscipy\u001b[0m\u001b[2m==1.16.3\u001b[0m\n",
      " \u001b[32m+\u001b[39m \u001b[1mthreadpoolctl\u001b[0m\u001b[2m==3.6.0\u001b[0m\n"
     ]
    }
   ],
   "source": [
    "!uv add scikit-learn==1.6.1"
   ]
  },
  {
   "cell_type": "markdown",
   "id": "8bbe2032",
   "metadata": {},
   "source": [
    "The first hash is\n",
    "`sha256:b4fc2525eca2c69a59260f583c56a7557c6ccdf8deafdba6e060f94c1c59738e`"
   ]
  },
  {
   "cell_type": "markdown",
   "id": "e995426d",
   "metadata": {},
   "source": [
    "### Models\n",
    "We have prepared a pipeline with a dictionary vectorizer and a model.\n",
    "It was trained (roughly) using this code:\n",
    "```\n",
    "categorical = ['lead_source']\n",
    "numeric = ['number_of_courses_viewed', 'annual_income']\n",
    "\n",
    "df[categorical] = df[categorical].fillna('NA')\n",
    "df[numeric] = df[numeric].fillna(0)\n",
    "\n",
    "train_dict = df[categorical + numeric].to_dict(orient='records')\n",
    "\n",
    "pipeline = make_pipeline(\n",
    "    DictVectorizer(),\n",
    "    LogisticRegression(solver='liblinear')\n",
    ")\n",
    "\n",
    "pipeline.fit(train_dict, y_train)\n",
    "```\n",
    "And then saved with Pickle. Download it"
   ]
  },
  {
   "cell_type": "code",
   "execution_count": 2,
   "id": "df8d2d29",
   "metadata": {},
   "outputs": [
    {
     "name": "stdout",
     "output_type": "stream",
     "text": [
      "  % Total    % Received % Xferd  Average Speed   Time    Time     Time  Current\n",
      "                                 Dload  Upload   Total   Spent    Left  Speed\n",
      "  0     0    0     0    0     0      0      0 --:--:-- --:--:-- --:--:--     0\n",
      "100  1300  100  1300    0     0   3028      0 --:--:-- --:--:-- --:--:--  3028\n"
     ]
    }
   ],
   "source": [
    "!curl -L -O https://github.com/DataTalksClub/machine-learning-zoomcamp/raw/refs/heads/master/cohorts/2025/05-deployment/pipeline_v1.bin"
   ]
  },
  {
   "cell_type": "markdown",
   "id": "1131224b",
   "metadata": {},
   "source": [
    "## Question 3\n",
    "Let's use the model\n",
    "* Write a script for loading the pipeline with pickle\n",
    "* Score this record"
   ]
  },
  {
   "cell_type": "code",
   "execution_count": 3,
   "id": "405ef2af",
   "metadata": {},
   "outputs": [],
   "source": [
    "import pickle\n",
    "model_file = 'pipeline_v1.bin'\n",
    "with open(model_file, mode = 'rb') as f_in:\n",
    "    pipeline = pickle.load(f_in)"
   ]
  },
  {
   "cell_type": "code",
   "execution_count": 4,
   "id": "56f45f59",
   "metadata": {},
   "outputs": [
    {
     "name": "stdout",
     "output_type": "stream",
     "text": [
      "the score is 0.534\n"
     ]
    }
   ],
   "source": [
    "record = {\n",
    "    \"lead_source\": \"paid_ads\",\n",
    "    \"number_of_courses_viewed\": 2,\n",
    "    \"annual_income\": 79276.0\n",
    "}\n",
    "\n",
    "score = pipeline.predict_proba(record)[0,1]\n",
    "print(f'the score is {score:.3f}')"
   ]
  },
  {
   "cell_type": "markdown",
   "id": "d8c9a0cd",
   "metadata": {},
   "source": [
    "## Question 4\n",
    "Now let's serve this model as a web service\n",
    "* Install FastAPI\n",
    "* Write FastAPI code for serving the model\n",
    "* Now score this client using `requests`:\n",
    "```\n",
    "url = \"YOUR_URL\"\n",
    "client = {\n",
    "    \"lead_source\": \"organic_search\",\n",
    "    \"number_of_courses_viewed\": 4,\n",
    "    \"annual_income\": 80304.0\n",
    "}\n",
    "requests.post(url, json=client).json()\n",
    "```\n",
    "\n",
    "What's the probability that this client will get a subscription?"
   ]
  },
  {
   "cell_type": "code",
   "execution_count": 5,
   "id": "fbcef527",
   "metadata": {},
   "outputs": [
    {
     "name": "stdout",
     "output_type": "stream",
     "text": [
      "\u001b[2K\u001b[2mResolved \u001b[1m21 packages\u001b[0m \u001b[2min 257ms\u001b[0m\u001b[0m                                        \u001b[0m\n",
      "\u001b[2K\u001b[37m⠙\u001b[0m \u001b[2mPreparing packages...\u001b[0m (0/1)                                                   \u001b[37m⠋\u001b[0m \u001b[2mPreparing packages...\u001b[0m (0/0)                                                   \n",
      "\u001b[2K\u001b[1A\u001b[37m⠙\u001b[0m \u001b[2mPreparing packages...\u001b[0m (0/1)-------------------\u001b[0m\u001b[0m     0 B/105.70 KiB          \u001b[1A\n",
      "\u001b[2K\u001b[1A\u001b[37m⠙\u001b[0m \u001b[2mPreparing packages...\u001b[0m (0/1)-------------------\u001b[0m\u001b[0m 16.00 KiB/105.70 KiB        \u001b[1A\n",
      "\u001b[2K\u001b[1A\u001b[37m⠙\u001b[0m \u001b[2mPreparing packages...\u001b[0m (0/1)-------------------\u001b[0m\u001b[0m 32.00 KiB/105.70 KiB        \u001b[1A\n",
      "\u001b[2K\u001b[1A\u001b[37m⠙\u001b[0m \u001b[2mPreparing packages...\u001b[0m (0/1)[2m----------------\u001b[0m\u001b[0m 48.00 KiB/105.70 KiB        \u001b[1A\n",
      "\u001b[2K\u001b[1A\u001b[37m⠙\u001b[0m \u001b[2mPreparing packages...\u001b[0m (0/1)[30m\u001b[2m-----------\u001b[0m\u001b[0m 64.00 KiB/105.70 KiB        \u001b[1A\n",
      "\u001b[2K\u001b[1A\u001b[37m⠙\u001b[0m \u001b[2mPreparing packages...\u001b[0m (0/1)---\u001b[30m\u001b[2m-------\u001b[0m\u001b[0m 80.00 KiB/105.70 KiB        \u001b[1A\n",
      "\u001b[2K\u001b[1A\u001b[37m⠙\u001b[0m \u001b[2mPreparing packages...\u001b[0m (0/1)--------\u001b[30m\u001b[2m--\u001b[0m\u001b[0m 96.00 KiB/105.70 KiB        \u001b[1A\n",
      "\u001b[2K\u001b[1A\u001b[37m⠙\u001b[0m \u001b[2mPreparing packages...\u001b[0m (0/1)----------\u001b[30m\u001b[2m\u001b[0m\u001b[0m 105.70 KiB/105.70 KiB       \u001b[1A\n",
      "\u001b[2K\u001b[2mPrepared \u001b[1m1 package\u001b[0m \u001b[2min 80ms\u001b[0m\u001b[0m                                                        \u001b[1A\n",
      "\u001b[2K\u001b[2mInstalled \u001b[1m14 packages\u001b[0m \u001b[2min 43ms\u001b[0m\u001b[0m0                              \u001b[0m\n",
      " \u001b[32m+\u001b[39m \u001b[1mannotated-doc\u001b[0m\u001b[2m==0.0.3\u001b[0m\n",
      " \u001b[32m+\u001b[39m \u001b[1mannotated-types\u001b[0m\u001b[2m==0.7.0\u001b[0m\n",
      " \u001b[32m+\u001b[39m \u001b[1manyio\u001b[0m\u001b[2m==4.11.0\u001b[0m\n",
      " \u001b[32m+\u001b[39m \u001b[1mclick\u001b[0m\u001b[2m==8.3.0\u001b[0m\n",
      " \u001b[32m+\u001b[39m \u001b[1mfastapi\u001b[0m\u001b[2m==0.120.4\u001b[0m\n",
      " \u001b[32m+\u001b[39m \u001b[1mh11\u001b[0m\u001b[2m==0.16.0\u001b[0m\n",
      " \u001b[32m+\u001b[39m \u001b[1midna\u001b[0m\u001b[2m==3.11\u001b[0m\n",
      " \u001b[32m+\u001b[39m \u001b[1mpydantic\u001b[0m\u001b[2m==2.12.3\u001b[0m\n",
      " \u001b[32m+\u001b[39m \u001b[1mpydantic-core\u001b[0m\u001b[2m==2.41.4\u001b[0m\n",
      " \u001b[32m+\u001b[39m \u001b[1msniffio\u001b[0m\u001b[2m==1.3.1\u001b[0m\n",
      " \u001b[32m+\u001b[39m \u001b[1mstarlette\u001b[0m\u001b[2m==0.49.1\u001b[0m\n",
      " \u001b[32m+\u001b[39m \u001b[1mtyping-extensions\u001b[0m\u001b[2m==4.15.0\u001b[0m\n",
      " \u001b[32m+\u001b[39m \u001b[1mtyping-inspection\u001b[0m\u001b[2m==0.4.2\u001b[0m\n",
      " \u001b[32m+\u001b[39m \u001b[1muvicorn\u001b[0m\u001b[2m==0.38.0\u001b[0m\n"
     ]
    }
   ],
   "source": [
    "!uv add fastapi uvicorn"
   ]
  },
  {
   "cell_type": "code",
   "execution_count": 8,
   "id": "2a1ea0d2",
   "metadata": {},
   "outputs": [],
   "source": [
    "from fastapi import FastAPI\n",
    "import uvicorn\n",
    "import pickle\n",
    "\n",
    "app = FastAPI(title = 'lead_score')\n",
    "\n",
    "with open('pipeline_v1.bin', mode='rb') as f_in:\n",
    "    pipeline = pickle.load(f_in)\n",
    "\n",
    "def predict_single(client):\n",
    "    res = pipeline.predict_proba(client)[0,1]\n",
    "    return float(res)\n",
    "\n",
    "@app.post(\"/predict\")\n",
    "def predict(client):\n",
    "    prob = predict_single(client)\n",
    "    return {\n",
    "        \"prob_susbcription\":prob,\n",
    "        \"subscription\":bool(prob >= 0.5)\n",
    "    }\n",
    "\n",
    "# if __name__ == \"__main__\":\n",
    "#     uvicorn.run(app, host=\"0.0.0.0\", port = 9696)"
   ]
  },
  {
   "cell_type": "code",
   "execution_count": 6,
   "id": "6527e9c8",
   "metadata": {},
   "outputs": [
    {
     "name": "stdout",
     "output_type": "stream",
     "text": [
      "\u001b[2K\u001b[2mResolved \u001b[1m25 packages\u001b[0m \u001b[2min 129ms\u001b[0m\u001b[0m                                        \u001b[0m\n",
      "\u001b[2K\u001b[2mInstalled \u001b[1m4 packages\u001b[0m \u001b[2min 11ms\u001b[0m\u001b[0m.4.4                            \u001b[0m     \u001b[0m\n",
      " \u001b[32m+\u001b[39m \u001b[1mcertifi\u001b[0m\u001b[2m==2025.10.5\u001b[0m\n",
      " \u001b[32m+\u001b[39m \u001b[1mcharset-normalizer\u001b[0m\u001b[2m==3.4.4\u001b[0m\n",
      " \u001b[32m+\u001b[39m \u001b[1mrequests\u001b[0m\u001b[2m==2.32.5\u001b[0m\n",
      " \u001b[32m+\u001b[39m \u001b[1murllib3\u001b[0m\u001b[2m==2.5.0\u001b[0m\n"
     ]
    }
   ],
   "source": [
    "!uv add --dev requests"
   ]
  },
  {
   "cell_type": "code",
   "execution_count": 8,
   "id": "d2bab9e9",
   "metadata": {},
   "outputs": [
    {
     "name": "stdout",
     "output_type": "stream",
     "text": [
      "{'prob_susbcription': 0.5340417283801275, 'subscription': True}\n",
      "The client will likely get a subscription\n"
     ]
    }
   ],
   "source": [
    "import requests\n",
    "url = \"http://localhost:9696/predict\"\n",
    "\n",
    "client = {\n",
    "    \"lead_source\": \"organic_search\",\n",
    "    \"number_of_courses_viewed\": 4,\n",
    "    \"annual_income\": 80304.0\n",
    "}\n",
    "\n",
    "response = requests.post(url=url, json=client)\n",
    "pred = response.json()\n",
    "\n",
    "print(pred)\n",
    "if pred['subscription']:\n",
    "    print(\"The client will likely get a subscription\")\n",
    "else:\n",
    "    print(\"The client is unlikely to get a subscription\")"
   ]
  },
  {
   "cell_type": "markdown",
   "id": "145c9cc7",
   "metadata": {},
   "source": [
    "## Docker\n",
    "For these questions, we prepared a base image: `agrigorev/zoomcamp-model:2025`. You'll need to use it\n",
    "This image is based on `3.13.5-slim-bookworm` and has a pipeline with logistic regression (a different one) as well as a dictionary vectorizer inside.\n",
    "This is how the dockerfile for this image looks like:\n",
    "```\n",
    "FROM python:3.13.5-slim-bookworm\n",
    "WORKDIR /code\n",
    "COPY pipeline_v2.bin .\n",
    "```"
   ]
  },
  {
   "cell_type": "markdown",
   "id": "a5d0b108",
   "metadata": {},
   "source": [
    "## Question 5\n",
    "Download the base image.\n",
    "So what's the size of the base image?"
   ]
  },
  {
   "cell_type": "code",
   "execution_count": 12,
   "id": "d008887b",
   "metadata": {},
   "outputs": [
    {
     "name": "stdout",
     "output_type": "stream",
     "text": [
      "2025: Pulling from agrigorev/zoomcamp-model\n",
      "Digest: sha256:14d79fde0bbf078eb18c99c2bd007205917b758ec11060b2994963a1e485c2ae\n",
      "Status: Image is up to date for agrigorev/zoomcamp-model:2025\n",
      "docker.io/agrigorev/zoomcamp-model:2025\n",
      "\u001b[1m\n",
      "What's next:\u001b[0m\n",
      "    View a summary of image vulnerabilities and recommendations → \u001b[36mdocker scout quickview agrigorev/zoomcamp-model:2025\u001b[0m\n"
     ]
    }
   ],
   "source": [
    "!docker pull agrigorev/zoomcamp-model:2025"
   ]
  },
  {
   "cell_type": "code",
   "execution_count": 13,
   "id": "b6eef629",
   "metadata": {},
   "outputs": [
    {
     "name": "stdout",
     "output_type": "stream",
     "text": [
      "[\r\n",
      "    {\r\n",
      "        \"Id\": \"sha256:14d79fde0bbf078eb18c99c2bd007205917b758ec11060b2994963a1e485c2ae\",\r\n",
      "        \"RepoTags\": [\r\n",
      "            \"agrigorev/zoomcamp-model:2025\"\r\n",
      "        ],\r\n",
      "        \"RepoDigests\": [\r\n",
      "            \"agrigorev/zoomcamp-model@sha256:14d79fde0bbf078eb18c99c2bd007205917b758ec11060b2994963a1e485c2ae\"\r\n",
      "        ],\r\n",
      "        \"Parent\": \"\",\r\n",
      "        \"Comment\": \"buildkit.dockerfile.v0\",\r\n",
      "        \"Created\": \"2025-10-21T07:58:31.344794708Z\",\r\n",
      "        \"DockerVersion\": \"\",\r\n",
      "        \"Author\": \"\",\r\n",
      "        \"Architecture\": \"amd64\",\r\n",
      "        \"Os\": \"linux\",\r\n",
      "        \"Size\": 44332815,\r\n",
      "        \"GraphDriver\": {\r\n",
      "            \"Data\": null,\r\n",
      "            \"Name\": \"overlayfs\"\r\n",
      "        },\r\n",
      "        \"RootFS\": {\r\n",
      "            \"Type\": \"layers\",\r\n",
      "            \"Layers\": [\r\n",
      "                \"sha256:7cc7fe68eff66f19872441a51938eecc4ad33746d2baa3abc081c1e6fe25988e\",\r\n",
      "                \"sha256:9621f68f1f5ddfd1fa67faa2a5c513986b9d4b015f06999152893fc9bcefb093\",\r\n",
      "                \"sha256:547f1fc1a2bb7ad4fbecb26c04a6ba82c067e668e79ab229bd932745636781c7\",\r\n",
      "                \"sha256:7d8e4ce94100ff12329e91295efd7fb69bfc45c0525dd1ff94e577a22903d44c\",\r\n",
      "                \"sha256:933ffd3a55349e2cfd5f64cc0fd7215e9f9dd9a21ed46adc8e6228af63e825a5\",\r\n",
      "                \"sha256:3308496b37d2bfe7e2c2ffb4030e40c173e57cdfb8ab3d12196f1db5b3e38b25\"\r\n",
      "            ]\r\n",
      "        },\r\n",
      "        \"Metadata\": {\r\n",
      "            \"LastTagTime\": \"2025-10-31T21:04:29.923520823Z\"\r\n",
      "        },\r\n",
      "        \"Descriptor\": {\r\n",
      "            \"mediaType\": \"application/vnd.docker.distribution.manifest.v2+json\",\r\n",
      "            \"digest\": \"sha256:14d79fde0bbf078eb18c99c2bd007205917b758ec11060b2994963a1e485c2ae\",\r\n",
      "            \"size\": 1572\r\n",
      "        },\r\n",
      "        \"Config\": {\r\n",
      "            \"Cmd\": [\r\n",
      "                \"python3\"\r\n",
      "            ],\r\n",
      "            \"Entrypoint\": null,\r\n",
      "            \"Env\": [\r\n",
      "                \"PATH=/usr/local/bin:/usr/local/sbin:/usr/local/bin:/usr/sbin:/usr/bin:/sbin:/bin\",\r\n",
      "                \"GPG_KEY=7169605F62C751356D054A26A821E680E5FA6305\",\r\n",
      "                \"PYTHON_VERSION=3.13.5\",\r\n",
      "                \"PYTHON_SHA256=93e583f243454e6e9e4588ca2c2662206ad961659863277afcdb96801647d640\"\r\n",
      "            ],\r\n",
      "            \"Labels\": null,\r\n",
      "            \"OnBuild\": null,\r\n",
      "            \"User\": \"\",\r\n",
      "            \"Volumes\": null,\r\n",
      "            \"WorkingDir\": \"/code\"\r\n",
      "        }\r\n",
      "    }\r\n",
      "]\r\n"
     ]
    }
   ],
   "source": [
    "!docker image inspect agrigorev/zoomcamp-model:2025"
   ]
  },
  {
   "cell_type": "markdown",
   "id": "c9b96522",
   "metadata": {},
   "source": [
    "## Dockerfile\n",
    "Now create your own `Dockerfile` based on the image we prepared\n",
    "\n",
    "* Install all dependencies from pyproject.toml\n",
    "* copy your FastAPI script\n",
    "* Run it with uvicorn\n",
    "\n",
    "After that, you can build hte image"
   ]
  },
  {
   "cell_type": "markdown",
   "id": "56cfa07f",
   "metadata": {},
   "source": [
    "```\n",
    "FROM agrigorev/zoomcamp-model:2025\n",
    "\n",
    "# Copy the 'uv' and 'uvx' executables from the latest uv image into /bin/ in this image\n",
    "# 'uv' is a fast Python package installer and environment manager\n",
    "COPY --from=ghcr.io/astral-sh/uv:latest /uv /uvx /bin/\n",
    "\n",
    "# Set the working directory inside the container to /code\n",
    "WORKDIR /app\n",
    "\n",
    "# directory for uv virtual environment \n",
    "ENV PATH=\"/app/.venv/bin:$PATH\"\n",
    "\n",
    "# copy project data\n",
    "COPY \"pyproject.toml\" \"uv.lock\" \".python-version\" \"pipeline_v1.bin\" \"predict.py\" ./\n",
    "\n",
    "# Install dependencies\n",
    "RUN uv sync --locked\n",
    "\n",
    "# expose port 9696 set in the FastAPI\n",
    "EXPOSE 9696\n",
    "\n",
    "# Set up entrypoint\n",
    "COPY \"runapp.sh\" ./\n",
    "RUN chmod +x runapp.sh\n",
    "\n",
    "ENTRYPOINT [\"/code/runapp.sh\"]\n",
    "```"
   ]
  },
  {
   "cell_type": "markdown",
   "id": "ce2cd1b5",
   "metadata": {},
   "source": [
    "`docker build -f Dockerfile -t lead_score:2025 .`"
   ]
  },
  {
   "cell_type": "markdown",
   "id": "1edee4bd",
   "metadata": {},
   "source": [
    "`docker run -t --rm -p 9696:9696 lead_score:2025`"
   ]
  },
  {
   "cell_type": "markdown",
   "id": "d3501b8b",
   "metadata": {},
   "source": [
    "## Pydantic and Validation"
   ]
  },
  {
   "cell_type": "markdown",
   "id": "221e9b21",
   "metadata": {},
   "source": [
    "\n",
    "categorical = ['lead_source']\n",
    "numeric = ['number_of_courses_viewed', 'annual_income']\n",
    "\n",
    "df[categorical] = df[categorical].fillna('NA')\n",
    "df[numeric] = df[numeric].fillna(0)\n",
    "\n",
    "train_dict = df[categorical + numeric].to_dict(orient='records')\n",
    "\n",
    "pipeline = make_pipeline(\n",
    "    DictVectorizer(),\n",
    "    LogisticRegression(solver='liblinear')\n",
    ")\n",
    "\n",
    "pipeline.fit(train_dict, y_train)"
   ]
  },
  {
   "cell_type": "code",
   "execution_count": 15,
   "id": "5ef37200",
   "metadata": {},
   "outputs": [
    {
     "name": "stdout",
     "output_type": "stream",
     "text": [
      "lead_source\n",
      "organic_search    282\n",
      "social_media      278\n",
      "paid_ads          264\n",
      "referral          260\n",
      "events            250\n",
      "Name: count, dtype: int64\n",
      "\n",
      "count    1462.000000\n",
      "mean        2.031464\n",
      "std         1.449717\n",
      "min         0.000000\n",
      "25%         1.000000\n",
      "50%         2.000000\n",
      "75%         3.000000\n",
      "max         9.000000\n",
      "Name: number_of_courses_viewed, dtype: float64\n",
      "\n",
      "count      1281.000000\n",
      "mean      59886.273224\n",
      "std       15070.140389\n",
      "min       13929.000000\n",
      "25%       49698.000000\n",
      "50%       60148.000000\n",
      "75%       69639.000000\n",
      "max      109899.000000\n",
      "Name: annual_income, dtype: float64\n",
      "\n"
     ]
    }
   ],
   "source": [
    "import pandas as pd\n",
    "data = pd.read_csv('lead_score.csv')\n",
    "categorical = ['lead_source']\n",
    "numerical = ['number_of_courses_viewed', 'annual_income']\n",
    "\n",
    "for c in categorical:\n",
    "    print(f'{data[c].value_counts()}\\n')\n",
    "for n in numerical:\n",
    "    print(f'{data[n].describe()}\\n')"
   ]
  }
 ],
 "metadata": {
  "language_info": {
   "name": "python"
  }
 },
 "nbformat": 4,
 "nbformat_minor": 5
}
