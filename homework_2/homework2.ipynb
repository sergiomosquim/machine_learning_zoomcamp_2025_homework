{
 "cells": [
  {
   "cell_type": "markdown",
   "id": "a93077ed",
   "metadata": {},
   "source": [
    "# Homework 2"
   ]
  },
  {
   "cell_type": "markdown",
   "id": "b180265a",
   "metadata": {},
   "source": [
    "## Download Dataset"
   ]
  },
  {
   "cell_type": "code",
   "execution_count": 147,
   "id": "301d5c38",
   "metadata": {},
   "outputs": [
    {
     "name": "stdout",
     "output_type": "stream",
     "text": [
      "  % Total    % Received % Xferd  Average Speed   Time    Time     Time  Current\n",
      "                                 Dload  Upload   Total   Spent    Left  Speed\n",
      "100  853k  100  853k    0     0  3050k      0 --:--:-- --:--:-- --:--:-- 3048k\n"
     ]
    }
   ],
   "source": [
    "!curl -o homework_2/car_fuel_efficiency.csv https://raw.githubusercontent.com/alexeygrigorev/datasets/master/car_fuel_efficiency.csv"
   ]
  },
  {
   "cell_type": "markdown",
   "id": "3fcfcaae",
   "metadata": {},
   "source": [
    "## Preparing the dataset"
   ]
  },
  {
   "cell_type": "code",
   "execution_count": 148,
   "id": "9d2d9f01",
   "metadata": {},
   "outputs": [],
   "source": [
    "import pandas as pd\n",
    "import numpy as np"
   ]
  },
  {
   "cell_type": "code",
   "execution_count": 149,
   "id": "cd8f5cdf",
   "metadata": {},
   "outputs": [],
   "source": [
    "data = pd.read_csv('homework_2/car_fuel_efficiency.csv')\n",
    "features = ['engine_displacement', 'horsepower', 'vehicle_weight', 'model_year', 'fuel_efficiency_mpg']\n",
    "data = data[features]"
   ]
  },
  {
   "cell_type": "markdown",
   "id": "7309567e",
   "metadata": {},
   "source": [
    "Look at 'fuel_efficiency_mpg'. Does it have a long tail?"
   ]
  },
  {
   "cell_type": "code",
   "execution_count": 150,
   "id": "2b8db600",
   "metadata": {},
   "outputs": [],
   "source": [
    "import seaborn as svs\n",
    "import matplotlib.pyplot as plt\n",
    "%matplotlib inline"
   ]
  },
  {
   "cell_type": "code",
   "execution_count": 151,
   "id": "c6d2691e",
   "metadata": {},
   "outputs": [
    {
     "data": {
      "text/plain": [
       "<Axes: xlabel='fuel_efficiency_mpg', ylabel='Count'>"
      ]
     },
     "execution_count": null,
     "metadata": {},
     "output_type": "execute_result"
    },
    {
     "data": {
      "image/png": "[encoded data removed]",
      "text/plain": [
       "<Figure size 640x480 with 1 Axes>"
      ]
     },
     "metadata": {},
     "output_type": "display_data"
    }
   ],
   "source": [
    "svs.histplot(data.fuel_efficiency_mpg)"
   ]
  },
  {
   "cell_type": "markdown",
   "id": "e35748af",
   "metadata": {},
   "source": [
    "No, it does not seem like there is a long tail in the response variable"
   ]
  },
  {
   "cell_type": "markdown",
   "id": "d3d8ca41",
   "metadata": {},
   "source": [
    "## Q1. There's one column with missing values. What is it?"
   ]
  },
  {
   "cell_type": "code",
   "execution_count": 152,
   "id": "58d5255c",
   "metadata": {},
   "outputs": [
    {
     "name": "stdout",
     "output_type": "stream",
     "text": [
      "['horsepower'] has  [708] missing values\n"
     ]
    }
   ],
   "source": [
    "data.isnull().sum()\n",
    "missing = data.isnull().sum()[data.isnull().sum() != 0]\n",
    "print(np.array(missing.index), 'has ', missing.values,'missing values')"
   ]
  },
  {
   "cell_type": "markdown",
   "id": "ebcc3053",
   "metadata": {},
   "source": [
    "## Q2. What's the median (50% percentile) for variable 'horsepower'?"
   ]
  },
  {
   "cell_type": "code",
   "execution_count": 153,
   "id": "c8ca99a4",
   "metadata": {},
   "outputs": [
    {
     "data": {
      "text/plain": [
       "149.0"
      ]
     },
     "execution_count": null,
     "metadata": {},
     "output_type": "execute_result"
    }
   ],
   "source": [
    "np.nanmedian(data['horsepower'])\n",
    "data['horsepower'].median(skipna=True)"
   ]
  },
  {
   "cell_type": "markdown",
   "id": "948c4bb2",
   "metadata": {},
   "source": [
    "## Prepare and split the dataset\n",
    "1. shuffle the dataset (the filtered one you created above), use seed 42\n",
    "2. split your data in train/val/test sets, with 60%/20%/20% distribution"
   ]
  },
  {
   "cell_type": "code",
   "execution_count": 154,
   "id": "336e44df",
   "metadata": {},
   "outputs": [],
   "source": [
    "np.random.seed(42)\n",
    "\n",
    "n = len(data)\n",
    "n_val = int(n*0.2)\n",
    "n_test = int(n*0.2)\n",
    "n_train = n - (n_val + n_test)\n",
    "\n",
    "idx = np.arange(n)\n",
    "np.random.shuffle(idx)\n",
    "\n",
    "data_shuffled = data.iloc[idx]\n",
    "\n",
    "data_train = data_shuffled.iloc[0:n_train].reset_index(drop = True)\n",
    "data_val = data_shuffled.iloc[n_train:n_train+n_val].reset_index(drop = True)\n",
    "data_test = data_shuffled.iloc[n_train+n_val:].reset_index(drop = True)\n",
    "\n",
    "y_train = data_train['fuel_efficiency_mpg']\n",
    "y_val = data_val['fuel_efficiency_mpg']\n",
    "y_test = data_test['fuel_efficiency_mpg']\n",
    "\n",
    "del data_train['fuel_efficiency_mpg']\n",
    "del data_test['fuel_efficiency_mpg']\n",
    "del data_val['fuel_efficiency_mpg']"
   ]
  },
  {
   "cell_type": "markdown",
   "id": "21a3fae3",
   "metadata": {},
   "source": [
    "## Q3.\n",
    "* We need to deal with missing values for the column from Q1\n",
    "* We have two options: fill it with 0 or wil the mean of this variable\n",
    "* Try both options. For each, train a linear regression model without regularization using the code from the lessons\n",
    "* For computing the mean, use the training only!\n",
    "* Use the validation dataset to evaluate the models and compare the RMSE of each option\n",
    "* Round the RMSE scored to 2 decimal digits using round(score, 2)\n",
    "* Which option gives better RMSE?"
   ]
  },
  {
   "cell_type": "code",
   "execution_count": 155,
   "id": "db027836",
   "metadata": {},
   "outputs": [
    {
     "name": "stdout",
     "output_type": "stream",
     "text": [
      "The RMSE base on mean is  0.46 , while the one based on filling missing values with 0 is  0.52\n"
     ]
    }
   ],
   "source": [
    "# Takes the mean of horsepower only from the training data\n",
    "mean_hp_train = data_train['horsepower'].mean(skipna = True)\n",
    "\n",
    "# functions to fill missing values in horsepower and extract the matrices\n",
    "def prepare_X_mean(df):\n",
    "    df = df.copy()\n",
    "    df['horsepower'] = df['horsepower'].fillna(mean_hp_train)\n",
    "    X = df.values\n",
    "    return(X)\n",
    "\n",
    "X_train_mean = prepare_X_mean(data_train)\n",
    "X_test_mean = prepare_X_mean(data_test)\n",
    "X_val_mean = prepare_X_mean(data_val)\n",
    "\n",
    "def prepare_X_zero(df):\n",
    "    df = df.copy()\n",
    "    df['horsepower'] = df['horsepower'].fillna(0)\n",
    "    X = df.values\n",
    "    return(X)\n",
    "\n",
    "X_train_zero = prepare_X_zero(data_train)\n",
    "X_test_zero = prepare_X_zero(data_test)\n",
    "X_val_zero = prepare_X_zero(data_val)\n",
    "\n",
    "# function to calculate the weights for the linear regression (training)\n",
    "def train_linreg(X,y):\n",
    "    ones = np.ones(X.shape[0]) # Creates a column of ones to be used as coefficient for bias weight\n",
    "    X = np.column_stack([ones, X]) # Adds the created column as the first column in X\n",
    "\n",
    "    XTX = X.T.dot(X)\n",
    "    XTX_inv = np.linalg.inv(XTX)\n",
    "    w = XTX_inv.dot(X.T).dot(y)\n",
    "    return w[0], w[1:]\n",
    "\n",
    "# Function to calculate the RMSE\n",
    "def rmse(y,y_pred):\n",
    "    se = (y - y_pred) ** 2\n",
    "    mse = se.mean()\n",
    "    rmse = np.sqrt(mse)\n",
    "    return rmse\n",
    "\n",
    "# weights from linear regression with mean\n",
    "w_mean_0, w_mean = train_linreg(X_train_mean, y_train)\n",
    "y_val_pred_mean = w_mean_0 + X_val_mean.dot(w_mean)\n",
    "rmse_mean = rmse(y_val, y_val_pred_mean).round(2)\n",
    "\n",
    "# weights from linear regression with zero\n",
    "w_zero_0, w_zero = train_linreg(X_train_zero, y_train)\n",
    "y_val_pred_zero = w_zero_0 + X_val_zero.dot(w_zero)\n",
    "rmse_zero = rmse(y_val, y_val_pred_zero).round(2)\n",
    "\n",
    "print('The RMSE base on mean is ', rmse_mean, ', while the one based on filling missing values with 0 is ', rmse_zero)"
   ]
  },
  {
   "cell_type": "markdown",
   "id": "cfabaa9b",
   "metadata": {},
   "source": [
    "## Q4.\n",
    "* Now let's train a regularized linear regression\n",
    "* For this question, fill the NAs with 0\n",
    "* Try different values of r from this list: [0, 0.01, 0.1, 1, 5, 10, 100]\n",
    "* Use RMSE to evaluate the model on the validation dataset\n",
    "* Round the RMSE scores to 2 decimal digits\n",
    "* Which r gives the best RMSE?"
   ]
  },
  {
   "cell_type": "code",
   "execution_count": 156,
   "id": "20ac7a00",
   "metadata": {},
   "outputs": [
    {
     "name": "stdout",
     "output_type": "stream",
     "text": [
      "r = 0 , w0 = 28.82736547437522 , rmse =  0.52\n",
      "r = 0.01 , w0 = 24.926838419651713 , rmse =  0.52\n",
      "r = 0.1 , w0 = 11.239661084720263 , rmse =  0.52\n",
      "r = 1 , w0 = 1.731597941154011 , rmse =  0.52\n",
      "r = 5 , w0 = 0.36380750205483864 , rmse =  0.52\n",
      "r = 10 , w0 = 0.18306246621703365 , rmse =  0.52\n",
      "r = 100 , w0 = 0.018418017307219765 , rmse =  0.52\n"
     ]
    }
   ],
   "source": [
    "r = [0, 0.01, 0.1, 1, 5, 10, 100]\n",
    "# function for regularized linear regression\n",
    "def train_linreg_regularized(X,y,r):\n",
    "    ones = np.ones(X.shape[0]) # Creates a column of ones to be used as coefficient for bias weight\n",
    "    X = np.column_stack([ones, X]) # Adds the created column as the first column in X\n",
    "\n",
    "    XTX = X.T.dot(X)\n",
    "    XTX = XTX + r * np.eye(XTX.shape[0]) # this adds regularized terms at the diagnoal of XTX\n",
    "    XTX_inv = np.linalg.inv(XTX)\n",
    "    w = XTX_inv.dot(X.T).dot(y)\n",
    "    return w[0], w[1:]\n",
    "\n",
    "for r in r:\n",
    "    w_reg_0, w_reg = train_linreg_regularized(X_train_zero, y_train, r)\n",
    "    y_val_reg = w_reg_0 + X_val_zero.dot(w_reg)\n",
    "    rmse_reg = rmse(y_val, y_val_reg).round(2)\n",
    "    print('r =',r,', w0 =', w_reg_0, ', rmse = ', rmse_reg)\n",
    "\n"
   ]
  },
  {
   "cell_type": "markdown",
   "id": "eff1ee50",
   "metadata": {},
   "source": [
    "## Q5.\n",
    "* We used seed 42 for splitting the data. Let's find out how selecting the seed influences our score\n",
    "* Try different seed values:[0, 1, 2, 3, 4, 5, 6, 7, 8, 9]\n",
    "* For each seed, do the train/validation/test split with 60/20/20\n",
    "* Fill the missing values with 0 and train a model without regularization\n",
    "* For each seed, evaluate the model on the validation dataset and collect the rmse scores\n",
    "* What is the standard deviation of all the scores? To compute the standard deviation, use np.std\n",
    "* Round the results to 3 decimal digits"
   ]
  },
  {
   "cell_type": "code",
   "execution_count": 157,
   "id": "748089a8",
   "metadata": {},
   "outputs": [
    {
     "name": "stdout",
     "output_type": "stream",
     "text": [
      "The standard deviation of the RMSE is 0.007\n"
     ]
    }
   ],
   "source": [
    "seeds = [0, 1, 2, 3, 4, 5, 6, 7, 8, 9]\n",
    "scores = []\n",
    "for seed in seeds:\n",
    "    np.random.seed(seed)\n",
    "    idx = np.arange(n)\n",
    "    np.random.shuffle(idx)\n",
    "\n",
    "    data_shuffled = data.iloc[idx]\n",
    "\n",
    "    data_train = data_shuffled.iloc[0:n_train].reset_index(drop = True)\n",
    "    data_val = data_shuffled.iloc[n_train:n_train+n_val].reset_index(drop = True)\n",
    "    data_test = data_shuffled.iloc[n_train+n_val:].reset_index(drop = True)\n",
    "\n",
    "    y_train = data_train['fuel_efficiency_mpg']\n",
    "    y_val = data_val['fuel_efficiency_mpg']\n",
    "    y_test = data_test['fuel_efficiency_mpg']\n",
    "\n",
    "    del data_train['fuel_efficiency_mpg']\n",
    "    del data_test['fuel_efficiency_mpg']\n",
    "    del data_val['fuel_efficiency_mpg']\n",
    "\n",
    "    X_train_zero = prepare_X_zero(data_train)\n",
    "    X_test_zero = prepare_X_zero(data_test)\n",
    "    X_val_zero = prepare_X_zero(data_val)\n",
    "\n",
    "    # weights from linear regression with zero\n",
    "    w_zero_0, w_zero = train_linreg(X_train_zero, y_train)\n",
    "    y_val_pred_zero = w_zero_0 + X_val_zero.dot(w_zero)\n",
    "    rmse_zero = rmse(y_val, y_val_pred_zero)\n",
    "    scores.append(rmse_zero)\n",
    "\n",
    "print('The standard deviation of the RMSE is', np.std(scores).round(3))"
   ]
  },
  {
   "cell_type": "markdown",
   "id": "45cf7eeb",
   "metadata": {},
   "source": [
    "# Q6.\n",
    "* Split the dataset like previously, use seed 9\n",
    "* Combine train and validation datasets\n",
    "* Fill the missing values with 0 and train a model with regularization r = 0.001\n",
    "* What is the RMSE on the test dataset?"
   ]
  },
  {
   "cell_type": "code",
   "execution_count": 158,
   "id": "a2ec845b",
   "metadata": {},
   "outputs": [
    {
     "name": "stdout",
     "output_type": "stream",
     "text": [
      "The RMSE on the test set is 0.515626129917388\n"
     ]
    }
   ],
   "source": [
    "np.random.seed(9)\n",
    "idx = np.arange(n)\n",
    "np.random.shuffle(idx)\n",
    "\n",
    "data_shuffled = data.iloc[idx]\n",
    "\n",
    "n_train = n_train + n_val\n",
    "\n",
    "data_train = data_shuffled.iloc[0:n_train].reset_index(drop = True)\n",
    "data_test = data_shuffled.iloc[n_train:].reset_index(drop = True)\n",
    "\n",
    "y_train = data_train['fuel_efficiency_mpg']\n",
    "y_test = data_test['fuel_efficiency_mpg']\n",
    "\n",
    "del data_train['fuel_efficiency_mpg']\n",
    "del data_test['fuel_efficiency_mpg']\n",
    "\n",
    "X_train_zero = prepare_X_zero(data_train)\n",
    "X_test_zero = prepare_X_zero(data_test)\n",
    "\n",
    "# weights from linear regression with zero\n",
    "w_zero_0, w_zero = train_linreg_regularized(X_train_zero, y_train, r = 0.001)\n",
    "y_test_pred_zero = w_zero_0 + X_test_zero.dot(w_zero)\n",
    "rmse_test = rmse(y_test, y_test_pred_zero)\n",
    "\n",
    "print('The RMSE on the test set is', rmse_test)"
   ]
  }
 ],
 "metadata": {
  "language_info": {
   "name": "python"
  }
 },
 "nbformat": 4,
 "nbformat_minor": 5
}
